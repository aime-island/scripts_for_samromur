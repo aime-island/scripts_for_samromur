{
 "cells": [
  {
   "cell_type": "code",
   "execution_count": 2,
   "metadata": {
    "tags": []
   },
   "outputs": [],
   "source": [
    "import json\n",
    "\n",
    "#kids_aged_10_and_under\n",
    "#kids_aged_11-15\n",
    "#scripts_aged_15_above\n",
    "\n",
    "file_to_open:str = 'kids_aged_11-15'\n",
    "version_number: str = '1.0'\n",
    "\n",
    "json_file:dict = {'version': version_number, 'script': []}\n",
    "\n",
    "with open('txt/' + file_to_open + '.txt', 'r') as f_in:\n",
    "    for line in f_in:\n",
    "        text, origin = line.split('\\t')\n",
    "        json_file['script'].append({'text': text, 'origin': origin.rstrip() })\n",
    "\n",
    "with open('json/' + file_to_open + '.json', 'w') as f_out:\n",
    "    json.dump(json_file, f_out, ensure_ascii=False, sort_keys=True, indent=4)"
   ]
  },
  {
   "cell_type": "code",
   "execution_count": null,
   "metadata": {},
   "outputs": [],
   "source": []
  }
 ],
 "metadata": {
  "language_info": {
   "codemirror_mode": {
    "name": "ipython",
    "version": 3
   },
   "file_extension": ".py",
   "mimetype": "text/x-python",
   "name": "python",
   "nbconvert_exporter": "python",
   "pygments_lexer": "ipython3",
   "version": "3.6.9-final"
  },
  "orig_nbformat": 2,
  "kernelspec": {
   "name": "python36964bit2b720d65c3504fc9a98c28bbf9a24434",
   "display_name": "Python 3.6.9 64-bit"
  }
 },
 "nbformat": 4,
 "nbformat_minor": 2
}